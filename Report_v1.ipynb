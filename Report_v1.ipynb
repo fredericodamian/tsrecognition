{
 "cells": [
  {
   "cell_type": "markdown",
   "metadata": {},
   "source": [
    "#  <center>Brazilian traffic sign recognition: an neural network approach</center>"
   ]
  },
  {
   "cell_type": "markdown",
   "metadata": {},
   "source": [
    "## 1. Introduction\n",
    "\n",
    "Besides autonomous cars technology is actually a trending subject in researches, many subfuctions of a car's embedded system has already been developed and it's currently working in nowadays cars (maybe not in popular ones). Traffic signs recognition (TSR) is one of those already done functions and it has a good performance, but as a driver assistant not as a controller product. Additionally, the recognition system is usually created based in the manufacture country regulations and features. As basically all cars sold in Brazil has imported technology, it's recognition function is disconnected from the system as it has no use there.\n",
    "\n",
    "This paper propose the creation of a dataset based in Brazil's traffic signs regulation, as well a artificial intelligence (AI) application based in training a neural network to classify it. The AI was implemented in TensorFlow framework for Python 3.7.\n",
    "\n",
    "\n",
    "![Examples of brazilian's Traffic signs](http://www.betuseal.com.br/wp-content/uploads/2015/01/placas-transito-sinaliza%C3%A7%C3%A3o-675x414.jpg)"
   ]
  },
  {
   "cell_type": "markdown",
   "metadata": {},
   "source": [
    "### 1.1 Libraries used:\n",
    "\n",
    "- Matplotlib: Python 2D plotting library;\n",
    "- NumPY: Python math package to work with arrays, vectors and matrices;\n",
    "- OS: File and Directory Access;\n",
    "- OpenCV: Image data processing;\n",
    "- Sklearn: Data mining and data analysis;\n",
    "- Skimage: Image data processing;\n",
    "- TensorFlow: Machine Learning framework."
   ]
  },
  {
   "cell_type": "code",
   "execution_count": 2,
   "metadata": {
    "collapsed": true
   },
   "outputs": [],
   "source": [
    "import cv2\n",
    "import matplotlib.pyplot as plt\n",
    "import numpy as np\n",
    "import os\n",
    "from skimage.transform import rotate\n",
    "from skimage.transform import warp\n",
    "from skimage.transform import ProjectiveTransform\n",
    "from sklearn import preprocessing\n",
    "from sklearn.model_selection import train_test_split\n",
    "import tensorflow as tf\n",
    "import random\n",
    "from random import choice\n",
    "from random import randint\n",
    "from random import uniform"
   ]
  },
  {
   "cell_type": "markdown",
   "metadata": {},
   "source": [
    "## 2. Creating the dataset\n",
    "\n",
    "Examples of Brazilian traffic signs can be individually gathered in [Detran/SE](http://www.detran.se.gov.br/educ_sinal.asp) web site, although it is a manual task, it wouldn't take so long to finish.\n",
    "\n",
    "<table><tr><td><img width=100 src='traffic_signs_classes/0.png'></td><td><img width=100 src='traffic_signs_classes/6.png'></td><td><img width=100 src='traffic_signs_classes/12.png'></td><td><img width=100 src='traffic_signs_classes/13.png'></td></tr></table>\n",
    "\n",
    "As traffic sign has a default shape, it allows removing any unnecessary part and retaining only the important details, reducing the number of data and so, optimizing for data processing.\n",
    "\n",
    "\n",
    "There are differents borders and shapes of signs, as illustrated above, which indicates it's objective (warning, regulation and directions) but it doens't offer any precious information about the sign meaning, so as the colors used. Such statement allow us to reduce data number  without losing any important feature for recognition by previously removing the sign background and convert it to gray scale.\n",
    "\n",
    "Due to remove the signs background, It was manually created a image for each sign in directory \"thresholding\", which contain only the background in the shape of the corresponding sign, also this image has the same name as the original sign for implementation facilities. The examples of thresholding images for the shown signs are demonstrated below.\n",
    "\n",
    "<table><tr><td><img width=100 src='traffic_signs_classes/thresholding/0.jpg'></td><td><img width=100 src='traffic_signs_classes/thresholding/6.jpg'></td><td><img width=100 src='traffic_signs_classes/thresholding/12.jpg'></td><td><img width=100 src='traffic_signs_classes/thresholding/13.jpg'></td></tr></table>\n",
    "\n",
    "Thinking in a real world application, the sign wouldn't be in perfect state and possibly in a different perspective as it should be, so it would be necessary to create those conditions to relate this possibilities to a label. From the 30 signs gathered in the previous database, a total of 500 synthesized versions for each sign were created. Each one of these versions proposes random geometry distortions, brightness, contrast, blur and noises effects, and at least, it is saved as a 56x56 gray pixels gray scale image, as its ilustraded below.\n",
    "\n",
    "<table><tr><td><img width=100 src='Generated/0/0_1.png'></td><td><img width=100 src='Generated/6/6_7.png'></td><td><img width=100 src='Generated/12/12_13.png'></td><td><img width=100 src='Generated/13/13_14.png'></td></tr></table>\n",
    "\n",
    "After all the image processing, our Brazilian traffic sign image dataset is created."
   ]
  },
  {
   "cell_type": "code",
   "execution_count": 4,
   "metadata": {
    "scrolled": false
   },
   "outputs": [
    {
     "name": "stdout",
     "output_type": "stream",
     "text": [
      "Dataset successfully created!\n"
     ]
    }
   ],
   "source": [
    "def pespective(input, mascara):\n",
    "    cols = input.shape[1]\n",
    "    rows = input.shape[0]\n",
    "    inputQuad = np.array([[0, 0],[cols, 0],[cols,rows],[0,rows]], np.float32)\n",
    "    outputQuad = np.array([[-randint(0,17),-randint(0,17)],[cols+randint(0,17),-randint(0,17)],\t\n",
    "\t[cols+randint(0,17), rows+randint(0,17)],[-randint(0,17),rows+randint(0,17)]], np.float32)\n",
    "    M = cv2.getPerspectiveTransform(outputQuad, inputQuad)\n",
    "    output = cv2.warpPerspective(input,M,(cols,rows)) \n",
    "    output2 = cv2.warpPerspective(mascara,M,(cols,rows)) \n",
    "    return [output,output2]\n",
    "\n",
    "\n",
    "'''\n",
    "Apply 2D rotation and perspective transformation\n",
    "'''\n",
    "\n",
    "def transformation(name, name2):\n",
    "    src1 = cv2.imread(name, 0)\n",
    "    mask = cv2.imread(name2, 0)\n",
    "    \n",
    "    '''\n",
    "    noise application\n",
    "    '''\n",
    "    \n",
    "    rows, cols = src1.shape\n",
    "    k = 0\n",
    "    for i in range(0, rows):\n",
    "        for j in range(0, cols):\n",
    "            editValue = src1[i, j]\n",
    "            var = randint(25, 100)\n",
    "            k = var\n",
    "            if editValue > 60 and editValue < 160:\n",
    "                src1[i, j] = var\n",
    "            elif editValue > 230 and editValue < 256:\n",
    "                src1[i, j] = 255 - var\n",
    "    if k > 40:\n",
    "        getElement = cv2.getStructuringElement(cv2.MORPH_ELLIPSE, (5, 5))\n",
    "        src1 = cv2.erode(src1, getElement)\n",
    "\n",
    "        getElement = cv2.getStructuringElement(cv2.MORPH_ELLIPSE, (5, 5))\n",
    "        src1 = cv2.dilate(src1, getElement)\n",
    "\n",
    "    '''\n",
    "    rotation transformation (-20 ate 20 graus)\n",
    "    '''\n",
    "    \n",
    "    image_center = tuple(np.array(src1.shape) / 2)\n",
    "    angle = randint(-30, 30)\n",
    "    rot_mat = cv2.getRotationMatrix2D(image_center, angle, 1.0)\n",
    "    result = cv2.warpAffine(src1, rot_mat, src1.shape, flags=cv2.INTER_LINEAR)\n",
    "    result2 = cv2.warpAffine(mask, rot_mat, mask.shape, flags=cv2.INTER_LINEAR)     \n",
    "\n",
    "\n",
    "    '''\n",
    "    perspective transformation\n",
    "    '''\n",
    "    \n",
    "    img = result\n",
    "    rows = img.shape[0]\n",
    "    cols = img.shape[1]\n",
    "    pts1 = np.float32([[0, 0], [0, 200], [200, 0], [200, 200]])\n",
    "    seed = randint(0, 1)\n",
    "    variation1 = randint(0, 8)\n",
    "    variation2 = randint(15, 25)\n",
    "\n",
    "    # right direction perspective\n",
    "    if seed == 0:\n",
    "        pts2 = np.float32([[(0 + variation1), 0], [(0 + variation1),\n",
    "                                                   200], [(200 - variation2), 0], [(200 - variation2), 200]])\n",
    "    # left direction perspective\n",
    "    else:\n",
    "        pts2 = np.float32([[(0 + variation2), 0], [(0 + variation2),\n",
    "                                                   200], [(200 - variation1), 0], [(200 - variation1), 200]])\n",
    "\n",
    "    M = cv2.getPerspectiveTransform(pts1, pts2)\n",
    "    dst = cv2.warpPerspective(img, M, (200, 200))\n",
    "    dst2 = cv2.warpPerspective(result2, M, (200, 200))\n",
    "    \n",
    "    return [dst, dst2]\n",
    "\n",
    "\n",
    "\n",
    "'''\n",
    "Save resized image after applying random brightness, constrast and blur effect\n",
    "'''\n",
    "\n",
    "def variation(image,mascara, pasta, arquivo, transf):\n",
    "    \n",
    "    # alpha random values (simple contrast control) (0.4 - 0.9)\n",
    "    alpha = uniform(.4, .9)\n",
    "\n",
    "    # beta random values (simple brightness control) (10 - 20)\n",
    "    beta = randint(12, 16)\n",
    "    \n",
    "    cv2.convertScaleAbs(image, image, alpha, beta)\n",
    "\n",
    "    # add gaussian blurring\n",
    "    size = int(choice('35'))\n",
    "    blur = cv2.GaussianBlur(image, (size, size), 0, 0)\n",
    "    uhu =  cv2.medianBlur(blur,5)    \n",
    "    th, mask_th = cv2.threshold(mascara, 50, 255, cv2.THRESH_BINARY);\n",
    "    blur = cv2.bitwise_and(uhu, mask_th)\n",
    "    final = cv2.resize(blur, (56, 56))\n",
    "  \n",
    "    dirname = \"Generated/\" + str(pasta)+ \"/\"\n",
    "    \n",
    "    if not os.path.exists(dirname):\n",
    "        os.mkdir(dirname)\n",
    "    \n",
    "    cv2.imwrite(dirname + str(arquivo) + \"_\" +str(transf) + \".png\", final)\n",
    "\n",
    "    \n",
    "'''\n",
    "Import each image and pass it data as arguments to the image processing functions\n",
    "In the end of it's execution, all the synthesized images will be saved in \"Generated\" directory\n",
    "'''\n",
    "\n",
    "def create_database():\n",
    "    flag_name = 0\n",
    "    for i in range(0, 30):\n",
    "        filepath = './traffic_signs_classes/' + str(i) + '.png'\n",
    "        filepath2 = './traffic_signs_classes/thresholding/' + str(i) + '.jpg'\n",
    "        for j in range(0, 25):\n",
    "            src, mask = transformation(filepath, filepath2)\n",
    "            for transf in range(0, 20):\n",
    "                src2, mask2 = pespective(src, mask)\n",
    "                variation(src2, mask, i, j, transf)\n",
    "                #print('Class: ' + str(i) + ' Image : ' + str(j) + ' Transformation : ' + str(transf))\n",
    "    print('Dataset successfully created!')\n",
    "\n",
    "\n",
    "'''\n",
    "'''\n",
    "\n",
    "create_database()\n"
   ]
  },
  {
   "cell_type": "markdown",
   "metadata": {},
   "source": [
    "Now that a diversified traffic sign samples were created, it's ready to be loaded and pre-processed before initialize the neural network.\n",
    "\n",
    "As usual for image classification, it's matrix element becomes an feature for classification, so a 56 x 56 x 1 (length, width, channel) image is converted to a 56x56x1 = 3136 elements array. Each dataset matrix row correspond to a single sign image loaded, therefore our dataset matrix size is 15000 rows and 3136 columns. \n",
    "\n",
    "As for the label matrix, which relate the feature row to it's traffic sign, the concept of one hot encoding is used. Then, a total of 30 columns are needed for this classification, which each column represents one of the signs examples included in dataset. The number of rows is equal for both feature and label matrix.\n",
    "\n",
    "For the importing algorithm, it will enter each directory where was generated the different samples of each sign, load it's image data in gray scale and append it in the pre-initialized matrix."
   ]
  },
  {
   "cell_type": "code",
   "execution_count": 5,
   "metadata": {},
   "outputs": [],
   "source": [
    "generated_filepath = os.getcwd() + '/Generated//'\n",
    "n_signs = 30\n",
    "y_matrix = np.empty([0, n_signs])\n",
    "x_matrix = []\n",
    "for sign_count in range(0,n_signs):\n",
    "        inputdir =  generated_filepath + str(sign_count) + '//'\n",
    "        y_sign = np.zeros((1,n_signs), dtype=np.int)\n",
    "        y_sign[0][sign_count] = 1\n",
    "        for image in os.listdir(inputdir):\n",
    "            imageFilepath = inputdir + image\n",
    "            img_matrix = cv2.imread(imageFilepath,0)\n",
    "            img_array = np.ravel(img_matrix)\n",
    "            y_matrix = np.concatenate((y_matrix, y_sign), axis=0)\n",
    "            x_matrix.append(img_array)\n",
    "x_matrix = np.array(x_matrix)"
   ]
  },
  {
   "cell_type": "markdown",
   "metadata": {},
   "source": [
    "## 3. Neural Network\n",
    "\n",
    "In AI subject, neural network concept was chosen for it's proven efficiency with image classification. As a first approach, it was chosen to use a multi-layer perceptron (MLP) network.\n",
    "\n",
    "### 3.1 Multi-Layer Perceptron\n",
    "\n",
    "Perceptron is an algorithm that maps a function by binary classification. A single layer perceptron example is shown below.\n",
    "\n",
    "![Perceptron function](images/perceptron.png)\n",
    "\n",
    "A simplified perceptron algorithm follow these steps:\n",
    "\n",
    "1. Initialize the weights with random values;\n",
    "2. Select an input vector and present it to the network;\n",
    "3. Compute the output y', the input vectors ($x_i$) and the weights values ($\\omega_i$);\n",
    "4. Apply binary function:\n",
    "\n",
    "$$f(x) =\\begin{cases}\n",
    "               1\\hspace{1mm}if\\hspace{1mm}\\omega\\hspace{1mm}\\times\\hspace{1mm}x\\hspace{1mm}+\\hspace{1mm}b\\hspace{1mm}>\\hspace{1mm}0\\\\\n",
    "               0\\hspace{1mm}if\\hspace{1mm}otherwise\n",
    "            \\end{cases}$$\n",
    "\n",
    "5. If y' $\\neq$ y modify all connections $\\omega_i$ by adding the changes $\\bigtriangleup\\omega = yx_i$;\n",
    "6. Return to step 2.\n",
    "\n",
    "The single layer perceptron can be generalized to many layers connected to each other, as illustrated below.\n",
    "\n",
    "![Multi Layer Perceptron](images/mlp.png)"
   ]
  },
  {
   "cell_type": "markdown",
   "metadata": {},
   "source": [
    "### 3.2 Implementation\n",
    "\n",
    "The MLP network is implemented though TensorFlow framework, which includes several functions for Machine Learning. In addition, the environment has Intel Distribution for Python package to enhance the application performance\n",
    "\n",
    "#### 3.2.1 Model Specification\n",
    "\n",
    "Before instantiate the hidden layers, it's necessary to do three things:\n",
    "\n",
    "1. Define the input and output of the data;\n",
    "2. Choose number of hidden layers and number of it's inputs;\n",
    "3. Create the variables corresponding to each weights and bias needed for this neural network.\n",
    "\n",
    "Through Tensorflow method tf.placeholder, input and output is instantiate in the data type and length specified in it's arguments.\n",
    "\n",
    "For a first attempt, it was chosen to use 2 hidden layers with 300 inputs each, so it needs 3 vectors for each variable (weight and bias), as it includes output layer as well. As the parameters are specified, it should initialize it with help of tf.Variable and a value in it's argument. This value can be zero, one or random.\n",
    "\n",
    "Now that all the variables are defined, a layer is created associating those parameters with tf.add and tf.matmul. After it's building, a activation function (in this case, relu or softmax) is associated to each layer."
   ]
  },
  {
   "cell_type": "code",
   "execution_count": 6,
   "metadata": {
    "collapsed": true
   },
   "outputs": [],
   "source": [
    "n_hidden_1 = 300\n",
    "n_hidden_2 = 300"
   ]
  },
  {
   "cell_type": "code",
   "execution_count": 7,
   "metadata": {
    "collapsed": true
   },
   "outputs": [],
   "source": [
    "n_input = np.shape(x_matrix)[1]\n",
    "y_output = np.shape(y_matrix)[1]\n",
    "x = tf.placeholder(tf.float32,[None,n_input])\n",
    "y = tf.placeholder(tf.float32,[None,y_output])\n",
    "\n",
    "w1 = tf.Variable(tf.random_normal([n_input, n_hidden_1]))\n",
    "w2 = tf.Variable(tf.random_normal([n_hidden_1, n_hidden_2]))\n",
    "b1 = tf.Variable(tf.random_normal([n_hidden_1]))\n",
    "b2 = tf.Variable(tf.random_normal([n_hidden_2]))\n",
    "b_out = tf.Variable(tf.random_normal([y_output]))\n",
    "w_out = tf.Variable(tf.random_normal([n_hidden_2, y_output]))\n",
    "\n",
    "layer_1 = tf.add(tf.matmul(x, w1), b1)\n",
    "layer_1 = tf.nn.relu(layer_1)\n",
    "\n",
    "layer_2 = tf.add(tf.matmul(layer_1, w2), b2)\n",
    "layer_2 = tf.nn.relu(layer_2)\n",
    "\n",
    "out_layer = tf.add(tf.matmul(layer_2,w_out),b_out)\n",
    "pred = tf.nn.softmax(out_layer)"
   ]
  },
  {
   "cell_type": "markdown",
   "metadata": {},
   "source": [
    "Since the layers are already done, only the optimizer and cost functions are still missing. Cost will be defined by Cross-Entropy method, which calculate the difference value between the actual and the expected output with help of tf.reduce_mean Tensorflow method.\n",
    " \n",
    "For optimizer, Adam gradient descent function was selected as it performs smooth updates in calculating a new weight and bias in function of the cost retrieved for each epoch."
   ]
  },
  {
   "cell_type": "code",
   "execution_count": 8,
   "metadata": {
    "collapsed": true
   },
   "outputs": [],
   "source": [
    "cost = tf.reduce_mean(tf.nn.softmax_cross_entropy_with_logits(logits=out_layer,labels=y))\n",
    "\n",
    "optimizer = tf.train.AdamOptimizer().minimize(cost)\n"
   ]
  },
  {
   "cell_type": "markdown",
   "metadata": {},
   "source": [
    "Now our model definition is completed and it's ready for training, but it lacks a measure to demonstrate effectiveness. So, as a matter of accuracy calculation between epochs and display it for user visualization, every epoch will run and store the result of an algorithm that compares the maximum classification from output vector and the desired output for the sample injected in the network. If both are equal, it represents a right classification from the neural network."
   ]
  },
  {
   "cell_type": "code",
   "execution_count": 9,
   "metadata": {
    "collapsed": true
   },
   "outputs": [],
   "source": [
    "correct = tf.equal(tf.argmax(out_layer,1),tf.argmax(y,1))\n",
    "accuracy = tf.reduce_mean(tf.cast(correct,'float'))"
   ]
  },
  {
   "cell_type": "markdown",
   "metadata": {},
   "source": [
    "#### 3.2.2 Pre-processing data\n",
    "\n",
    "Before splitting the dataset matrix in a training set and validation set for cross-validation method application, it's applied a feature scaling so it's values becomes between 0~1, to offer at least a faster convergence in training phase. It's done with help from sklearn preprocessing method."
   ]
  },
  {
   "cell_type": "code",
   "execution_count": 10,
   "metadata": {},
   "outputs": [
    {
     "name": "stderr",
     "output_type": "stream",
     "text": [
      "/root/anaconda3/lib/python3.6/site-packages/sklearn/utils/validation.py:429: DataConversionWarning: Data with input dtype uint8 was converted to float64 by MinMaxScaler.\n",
      "  warnings.warn(msg, _DataConversionWarning)\n"
     ]
    }
   ],
   "source": [
    "min_max_scaler = preprocessing.MinMaxScaler()\n",
    "x_matrix_scale = min_max_scaler.fit_transform(x_matrix)"
   ]
  },
  {
   "cell_type": "markdown",
   "metadata": {},
   "source": [
    "#### 3.2.3 Execution of training\n",
    "\n",
    "The dataset is separated in the session's beginning in to test set and validation set, as it will be used for cross-validation method. The test set length is defined as 33% of total dataset length, and then it will contain 4950 sign samples, as validation set will have 10050 samples. This splitting number is very usual, as it's a good practice to have a test set size lesser than the validation set size to avoid overfitting.\n",
    "\n",
    "The number of epochs running this training is defined above and it's defined equal 150 to provide enough information in how many epochs are needed to have a good classification rate without overtraining this neural network. Each epoch run will call the optimizer and cost functions, to acquire the networks weights and bias vectors, and after it will run the manual accuracy method that was told before to store and plot it."
   ]
  },
  {
   "cell_type": "code",
   "execution_count": 11,
   "metadata": {
    "collapsed": true
   },
   "outputs": [],
   "source": [
    "epochs = 150"
   ]
  },
  {
   "cell_type": "code",
   "execution_count": 12,
   "metadata": {},
   "outputs": [
    {
     "data": {
      "image/png": "[encoded data removed]",
      "text/plain": [
       "<matplotlib.figure.Figure at 0x7fdcc8a0a7b8>"
      ]
     },
     "metadata": {},
     "output_type": "display_data"
    },
    {
     "name": "stdout",
     "output_type": "stream",
     "text": [
      "72.4040389061\n"
     ]
    }
   ],
   "source": [
    "#from sklearn.model_selection import train_test_split\n",
    "\n",
    "with tf.Session() as sess:\n",
    "    sess.run(tf.global_variables_initializer())\n",
    "    b = []\n",
    "    ac = []\n",
    "    X_train, X_test, Y_train, Y_test = train_test_split(x_matrix_scale, y_matrix, test_size=0.33)\n",
    "    for i in range(epochs):\n",
    "        _, a = sess.run([optimizer,cost],feed_dict={x:X_train,y:Y_train})\n",
    "        c = sess.run(accuracy,feed_dict={x:X_test,y:Y_test})\n",
    "        b.append(a)\n",
    "        ac.append(c)\n",
    "    \n",
    "    plt.plot(b)\n",
    "    plt.show()\n",
    "    \n",
    "    print(100*max(ac))"
   ]
  },
  {
   "cell_type": "markdown",
   "metadata": {},
   "source": [
    "## Results Analysis\n",
    "\n",
    "The MLP neural network results nearly 70% of accuracy, which represents that from 10050 samples used for validation, almost 7035 were right classified and 3015 were wrong. The resuls may change due the train_test_split method uses random set generation, so the test and validation set are probably different for each call. \n",
    "\n",
    "Thinking in a real world application in autonomous cars, it would not be a successful solution as it permits many recognition mistakes and promotes a bad decision, putting lives in risk. As a first attempt for this problem, it is a good result, but it also needs a better approach as desired for future works in this subject, like application of different neural network concepts as convolutional neural network for example, and optimization of parameters as layers and number of inputs."
   ]
  },
  {
   "cell_type": "code",
   "execution_count": null,
   "metadata": {
    "collapsed": true
   },
   "outputs": [],
   "source": []
  }
 ],
 "metadata": {
  "kernelspec": {
   "display_name": "Python 3",
   "language": "python",
   "name": "python3"
  },
  "language_info": {
   "codemirror_mode": {
    "name": "ipython",
    "version": 3
   },
   "file_extension": ".py",
   "mimetype": "text/x-python",
   "name": "python",
   "nbconvert_exporter": "python",
   "pygments_lexer": "ipython3",
   "version": "3.6.3"
  }
 },
 "nbformat": 4,
 "nbformat_minor": 2
}
