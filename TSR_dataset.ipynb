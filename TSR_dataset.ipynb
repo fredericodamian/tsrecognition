{
 "cells": [
  {
   "cell_type": "code",
   "execution_count": 2,
   "metadata": {},
   "outputs": [
    {
     "name": "stderr",
     "output_type": "stream",
     "text": [
      "/root/anaconda3/lib/python3.6/site-packages/sklearn/utils/validation.py:429: DataConversionWarning: Data with input dtype uint8 was converted to float64 by MinMaxScaler.\n",
      "  warnings.warn(msg, _DataConversionWarning)\n"
     ]
    },
    {
     "name": "stdout",
     "output_type": "stream",
     "text": [
      "Dataset created in 'x_matrix' (normal) and 'x_matrix_scale' (normalized) as input and 'y_matrix' as output\n"
     ]
    }
   ],
   "source": [
    "import os\n",
    "import cv2\n",
    "import numpy as np\n",
    "from sklearn import preprocessing\n",
    "\n",
    "def printMatrix(matrix):\n",
    "    rows,col = matrix.shape\n",
    "    print(\"printMatrix - Row: \", str(rows), \"Column: \", str(col))\n",
    "    lines = []\n",
    "    for row in matrix:\n",
    "        lines.append(' '.join(str(x) for x in row))\n",
    "    print('\\n'.join(lines))\n",
    "    \n",
    "## MATRIX X e Y com tamanhos diferentes!\n",
    "generated_filepath = os.getcwd() + '//Generated//'\n",
    "n_signs = 29\n",
    "#row_count = 0\n",
    "\n",
    "y_matrix = np.empty([0, n_signs])\n",
    "x_matrix = []\n",
    "for sign_count in range(0,n_signs):\n",
    "        inputdir =  generated_filepath + str(sign_count) + '//'\n",
    "        y_sign = np.zeros((1,n_signs), dtype=np.int)\n",
    "        y_sign[0][sign_count] = 1\n",
    "        for image in os.listdir(inputdir):\n",
    "            imageFilepath = inputdir + image\n",
    "            img_matrix = cv2.imread(imageFilepath,0)\n",
    "            img_array = np.ravel(img_matrix)\n",
    "            y_matrix = np.concatenate((y_matrix, y_sign), axis=0)\n",
    "            x_matrix.append(img_array)\n",
    "            #row_count += 1\n",
    "x_matrix = np.array(x_matrix)\n",
    "\n",
    "min_max_scaler = preprocessing.MinMaxScaler()\n",
    "x_matrix_scale = min_max_scaler.fit_transform(x_matrix)\n",
    "#x_matrix_scale = x_matrix\n",
    "#x_matrix_scale *= 255.0/x_matrix.max()\n",
    "print(\"Dataset created in 'x_matrix' (normal) and 'x_matrix_scale' (normalized) as input and 'y_matrix' as output\")\n",
    "%timeit"
   ]
  },
  {
   "cell_type": "code",
   "execution_count": null,
   "metadata": {
    "collapsed": true
   },
   "outputs": [],
   "source": []
  }
 ],
 "metadata": {
  "kernelspec": {
   "display_name": "Python 3",
   "language": "python",
   "name": "python3"
  },
  "language_info": {
   "codemirror_mode": {
    "name": "ipython",
    "version": 3
   },
   "file_extension": ".py",
   "mimetype": "text/x-python",
   "name": "python",
   "nbconvert_exporter": "python",
   "pygments_lexer": "ipython3",
   "version": "3.6.3"
  }
 },
 "nbformat": 4,
 "nbformat_minor": 2
}
