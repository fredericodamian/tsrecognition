{
 "cells": [
  {
   "cell_type": "code",
   "execution_count": 46,
   "metadata": {},
   "outputs": [
    {
     "name": "stdout",
     "output_type": "stream",
     "text": [
      "Shape:  (10, 1, 10)\n",
      "printMatrix - Row:  10 Column:  1\n",
      "[1 0 0 0 0 0 0 0 0 0]\n",
      "[0 1 0 0 0 0 0 0 0 0]\n",
      "[0 0 1 0 0 0 0 0 0 0]\n",
      "[0 0 0 1 0 0 0 0 0 0]\n",
      "[0 0 0 0 1 0 0 0 0 0]\n",
      "[0 0 0 0 0 1 0 0 0 0]\n",
      "[0 0 0 0 0 0 1 0 0 0]\n",
      "[0 0 0 0 0 0 0 1 0 0]\n",
      "[0 0 0 0 0 0 0 0 1 0]\n",
      "[0 0 0 0 0 0 0 0 0 1]\n"
     ]
    }
   ],
   "source": [
    "import numpy as np\n",
    "#from numpy import matrix\n",
    "\n",
    "def printMatrix(matrix):\n",
    "    rows,col,bir = matrix.shape\n",
    "    print(\"printMatrix - Row: \", str(rows), \"Column: \", str(col))\n",
    "    lines = []\n",
    "    for row in matrix:\n",
    "        lines.append(' '.join(str(x) for x in row))\n",
    "    print('\\n'.join(lines))\n",
    "\n",
    "A = np.matrix([[1,2],[3,4],[5,6]])\n",
    "\n",
    "#y_matrix = []\n",
    "n_signs = 10\n",
    "#y_matrix = np.empty([0, n_signs])\n",
    "y_matrix = []\n",
    "for sign_count in range(0,n_signs):\n",
    "        y_sign = np.zeros((1,n_signs), dtype=np.int)\n",
    "        y_sign[0][sign_count] = 1\n",
    "        #printMatrix(y_sign)\n",
    "        y_matrix.append(y_sign)\n",
    "        #y_matrix = np.concatenate((y_matrix, y_sign), axis=0)\n",
    "y_matrix = np.array(y_matrix)\n",
    "print(\"Shape: \", str(y_matrix.shape))\n",
    "printMatrix(y_matrix)"
   ]
  },
  {
   "cell_type": "code",
   "execution_count": 12,
   "metadata": {},
   "outputs": [
    {
     "name": "stdout",
     "output_type": "stream",
     "text": [
      "Filepath:  C:\\Users\\frede\\OneDrive\\Documentos\\trafficSignRecognition\\Jupyter\\Generated\\0\\\n",
      "<class 'numpy.ndarray'>\n",
      "(500, 3136)\n"
     ]
    }
   ],
   "source": [
    "import os\n",
    "import cv2\n",
    "import numpy as np\n",
    "##ha necessidade de ter a 2DArray ao contrario da 3D que está sendo carregada.\n",
    "## \n",
    "generated_filepath = os.getcwd() + '\\\\Generated\\\\'\n",
    "sign_count = 0\n",
    "inputdir =  generated_filepath + str(sign_count) + '\\\\'\n",
    "print(\"Filepath: \", inputdir)\n",
    "x_matrix = []\n",
    "for image in os.listdir(inputdir):\n",
    "#identar\n",
    "    #listDir = os.listdir(inputdir) #testando\n",
    "    #image = listDir[1] #testando\n",
    "    imageFilepath = inputdir + image\n",
    "    img_matrix = cv2.imread(imageFilepath,0)\n",
    "    img_array = np.ravel(img_matrix)\n",
    "    x_matrix.append(img_array)\n",
    "#endidentar\n",
    "print(type(img_matrix))\n",
    "x_matrix = np.array(x_matrix)\n",
    "print(x_matrix.shape)\n",
    "#printMatrix(img_matrix)"
   ]
  },
  {
   "cell_type": "code",
   "execution_count": 7,
   "metadata": {},
   "outputs": [
    {
     "name": "stdout",
     "output_type": "stream",
     "text": [
      "0_1.png\n"
     ]
    }
   ],
   "source": [
    "import os\n",
    "generated_filepath = os.getcwd() + '\\\\Generated\\\\'\n",
    "inputdir =  generated_filepath + str(0) + '\\\\'\n",
    "listDir = os.listdir(inputdir);\n",
    "print(listDir[1])\n",
    "\n"
   ]
  },
  {
   "cell_type": "code",
   "execution_count": null,
   "metadata": {
    "collapsed": true
   },
   "outputs": [],
   "source": []
  },
  {
   "cell_type": "code",
   "execution_count": null,
   "metadata": {
    "collapsed": true
   },
   "outputs": [],
   "source": []
  },
  {
   "cell_type": "code",
   "execution_count": null,
   "metadata": {
    "collapsed": true
   },
   "outputs": [],
   "source": []
  },
  {
   "cell_type": "code",
   "execution_count": null,
   "metadata": {
    "collapsed": true
   },
   "outputs": [],
   "source": []
  }
 ],
 "metadata": {
  "kernelspec": {
   "display_name": "Python 3",
   "language": "python",
   "name": "python3"
  },
  "language_info": {
   "codemirror_mode": {
    "name": "ipython",
    "version": 3
   },
   "file_extension": ".py",
   "mimetype": "text/x-python",
   "name": "python",
   "nbconvert_exporter": "python",
   "pygments_lexer": "ipython3",
   "version": "3.5.3"
  }
 },
 "nbformat": 4,
 "nbformat_minor": 2
}
