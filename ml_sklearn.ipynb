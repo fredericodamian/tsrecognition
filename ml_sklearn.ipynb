{
 "cells": [
  {
   "cell_type": "code",
   "execution_count": 1,
   "metadata": {
    "scrolled": true
   },
   "outputs": [
    {
     "name": "stderr",
     "output_type": "stream",
     "text": [
      "C:\\Users\\frede\\Anaconda3\\envs\\idp\\lib\\site-packages\\sklearn\\utils\\validation.py:429: DataConversionWarning: Data with input dtype uint8 was converted to float64 by MinMaxScaler.\n",
      "  warnings.warn(msg, _DataConversionWarning)\n"
     ]
    },
    {
     "name": "stdout",
     "output_type": "stream",
     "text": [
      "X Shape:  (14690, 3136) <class 'numpy.ndarray'>\n",
      "Y Shape:  (14690, 29) <class 'numpy.ndarray'>\n"
     ]
    }
   ],
   "source": [
    "import os\n",
    "import cv2\n",
    "import numpy as np\n",
    "import tensorflow as tf\n",
    "from sklearn import preprocessing, svm\n",
    "from sklearn.model_selection import train_test_split\n",
    "from sklearn.neural_network import MLPClassifier\n",
    "\n",
    "def printMatrix(matrix):\n",
    "    rows,col = matrix.shape\n",
    "    print(\"printMatrix - Row: \", str(rows), \"Column: \", str(col))\n",
    "    lines = []\n",
    "    for row in matrix:\n",
    "        lines.append(' '.join(str(x) for x in row))\n",
    "    print('\\n'.join(lines))\n",
    "    \n",
    "## MATRIX X e Y com tamanhos diferentes!\n",
    "generated_filepath = os.getcwd() + '\\\\Generated\\\\'\n",
    "n_signs = 29\n",
    "#row_count = 0\n",
    "\n",
    "y_matrix = np.empty([0, n_signs])\n",
    "x_matrix = []\n",
    "for sign_count in range(0,n_signs):\n",
    "        inputdir =  generated_filepath + str(sign_count) + '\\\\'\n",
    "        y_sign = np.zeros((1,n_signs), dtype=np.int)\n",
    "        y_sign[0][sign_count] = 1\n",
    "        for image in os.listdir(inputdir):\n",
    "            imageFilepath = inputdir + image\n",
    "            img_matrix = cv2.imread(imageFilepath,0)\n",
    "            img_array = np.ravel(img_matrix)\n",
    "            y_matrix = np.concatenate((y_matrix, y_sign), axis=0)\n",
    "            x_matrix.append(img_array)\n",
    "            #row_count += 1\n",
    "x_matrix = np.array(x_matrix)\n",
    "\n",
    "min_max_scaler = preprocessing.MinMaxScaler()\n",
    "x_matrix_scale = min_max_scaler.fit_transform(x_matrix)\n",
    "\n",
    "\n",
    "print(\"X Shape: \", str(x_matrix.shape), type(x_matrix))\n",
    "print(\"Y Shape: \", str(y_matrix.shape), type(y_matrix))\n",
    "\n"
   ]
  },
  {
   "cell_type": "code",
   "execution_count": null,
   "metadata": {
    "collapsed": true,
    "scrolled": true
   },
   "outputs": [],
   "source": [
    "#X_train, X_test, Y_train, Y_test = train_test_split(x_matrix, y_matrix, test_size=0.33)\n",
    "X_train, X_test, Y_train, Y_test = train_test_split(x_matrix_scale, y_matrix, test_size=0.33)\n",
    "\n",
    "\n",
    "#clf = svm.SVC()\n",
    "#clf = MLPClassifier(solver='lbfgs', alpha=1e-5, hidden_layer_sizes=(5, 2), random_state=1)\n",
    "\n",
    "clf = MLPClassifier(activation='logistic', solver='lbfgs', hidden_layer_sizes=(3,1000))\n",
    "\n",
    "clf.fit(X_train,Y_train)\n",
    "\n",
    "accuracy = clf.score(X_test,Y_test)\n",
    "\n",
    "print(100*accuracy)\n",
    "\n",
    "#test_1 = clf.predict(X_test[30])\n",
    "#print(test_1,Y_test[30])\n",
    "#x_matrix\n",
    "\n"
   ]
  },
  {
   "cell_type": "code",
   "execution_count": 4,
   "metadata": {
    "collapsed": true
   },
   "outputs": [],
   "source": [
    "\n",
    "n_hidden_1 = 600\n",
    "n_hidden_2 = 300\n",
    "\n",
    "n_input = np.shape(x_matrix)[1]\n",
    "y_output = np.shape(y_matrix)[1]\n",
    "x = tf.placeholder(tf.float32,[None,n_input])\n",
    "y = tf.placeholder(tf.float32,[None,y_output])\n",
    "\n",
    "w1 = tf.Variable(tf.random_normal([n_input, n_hidden_1]))\n",
    "w2 = tf.Variable(tf.random_normal([n_hidden_1, n_hidden_2]))\n",
    "b1 = tf.Variable(tf.random_normal([n_hidden_1]))\n",
    "b2 = tf.Variable(tf.random_normal([n_hidden_2]))\n",
    "b_out = tf.Variable(tf.random_normal([y_output]))\n",
    "w_out = tf.Variable(tf.random_normal([n_hidden_2, y_output]))\n",
    "\n",
    "layer_1 = tf.add(tf.matmul(x, w1), b1)\n",
    "layer_1 = tf.nn.relu(layer_1)\n",
    "\n",
    "layer_2 = tf.add(tf.matmul(layer_1, w2), b2)\n",
    "layer_2 = tf.nn.relu(layer_2)\n",
    "\n",
    "out_layer = tf.add(tf.matmul(layer_2,w_out),b_out)\n",
    "pred = tf.nn.softmax(out_layer)\n",
    "\n",
    "\n",
    "\n",
    "\n"
   ]
  },
  {
   "cell_type": "code",
   "execution_count": 5,
   "metadata": {
    "collapsed": true
   },
   "outputs": [],
   "source": [
    "cost = tf.reduce_mean(tf.nn.softmax_cross_entropy_with_logits(logits=out_layer,labels=y))\n",
    "optimizer = tf.train.AdamOptimizer().minimize(cost)\n",
    "\n",
    "correct = tf.equal(tf.argmax(out_layer,1),tf.argmax(y,1))\n",
    "accuracy = tf.reduce_mean(tf.cast(correct,'float'))\n",
    "\n",
    "\n"
   ]
  },
  {
   "cell_type": "code",
   "execution_count": 6,
   "metadata": {},
   "outputs": [
    {
     "data": {
      "image/png": "[encoded data removed]",
      "text/plain": [
       "<matplotlib.figure.Figure at 0x12259df86a0>"
      ]
     },
     "metadata": {},
     "output_type": "display_data"
    },
    {
     "name": "stdout",
     "output_type": "stream",
     "text": [
      "82.301980257\n"
     ]
    }
   ],
   "source": [
    "import matplotlib.pyplot as plt\n",
    "epochs = 150\n",
    "\n",
    "with tf.Session() as sess:\n",
    "    sess.run(tf.global_variables_initializer())\n",
    "    b = []\n",
    "    ac = []\n",
    "    X_train, X_test, Y_train, Y_test = train_test_split(x_matrix_scale, y_matrix, test_size=0.33)\n",
    "    for i in range(epochs):\n",
    "        _, a = sess.run([optimizer,cost],feed_dict={x:X_train,y:Y_train})\n",
    "        c = sess.run(accuracy,feed_dict={x:X_test,y:Y_test})\n",
    "        b.append(a)\n",
    "        ac.append(c)\n",
    "    \n",
    "    plt.plot(b)\n",
    "    plt.show()\n",
    "    \n",
    "    print(100*max(ac))"
   ]
  },
  {
   "cell_type": "code",
   "execution_count": null,
   "metadata": {
    "collapsed": true
   },
   "outputs": [],
   "source": []
  }
 ],
 "metadata": {
  "kernelspec": {
   "display_name": "Python 3",
   "language": "python",
   "name": "python3"
  },
  "language_info": {
   "codemirror_mode": {
    "name": "ipython",
    "version": 3
   },
   "file_extension": ".py",
   "mimetype": "text/x-python",
   "name": "python",
   "nbconvert_exporter": "python",
   "pygments_lexer": "ipython3",
   "version": "3.5.4"
  }
 },
 "nbformat": 4,
 "nbformat_minor": 2
}
